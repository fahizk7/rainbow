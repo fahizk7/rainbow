{
  "nbformat": 4,
  "nbformat_minor": 0,
  "metadata": {
    "colab": {
      "name": "Untitled3.ipynb",
      "provenance": [],
      "authorship_tag": "ABX9TyNUZ3z0ODW1hyd0FTu7IFAS",
      "include_colab_link": true
    },
    "kernelspec": {
      "display_name": "Python 3",
      "name": "python3"
    },
    "language_info": {
      "name": "python"
    }
  },
  "cells": [
    {
      "cell_type": "markdown",
      "metadata": {
        "id": "view-in-github",
        "colab_type": "text"
      },
      "source": [
        "<a href=\"https://colab.research.google.com/github/fahizk7/rainbow/blob/main/Untitled3.ipynb\" target=\"_parent\"><img src=\"https://colab.research.google.com/assets/colab-badge.svg\" alt=\"Open In Colab\"/></a>"
      ]
    },
    {
      "cell_type": "code",
      "metadata": {
        "colab": {
          "base_uri": "https://localhost:8080/"
        },
        "id": "vWUXRNn5UdiS",
        "outputId": "31596619-5ff8-42d2-88e5-662138d6db5f"
      },
      "source": [
        "x=\"--------he-----llo------\"\n",
        "print(x.replace(\"-\",\"+\"))"
      ],
      "execution_count": null,
      "outputs": [
        {
          "name": "stdout",
          "output_type": "stream",
          "text": [
            "++++++++he+++++llo++++++\n"
          ]
        }
      ]
    },
    {
      "cell_type": "code",
      "metadata": {
        "colab": {
          "base_uri": "https://localhost:8080/"
        },
        "id": "0Z7C4cfnUrOV",
        "outputId": "dd705f7f-39d1-41a9-ac9a-6458f94b2313"
      },
      "source": [
        ""
      ],
      "execution_count": null,
      "outputs": [
        {
          "name": "stdout",
          "output_type": "stream",
          "text": [
            "qqq\n",
            "ooooo\n",
            "ab\n",
            " qqq ooooo\n"
          ]
        }
      ]
    },
    {
      "cell_type": "code",
      "metadata": {
        "colab": {
          "background_save": true,
          "base_uri": "https://localhost:8080/"
        },
        "id": "MmcD79doRfRi",
        "outputId": "53ba76af-7c04-44ed-ca75-7b33ba8eec96"
      },
      "source": [
        "n=int(input())\n",
        "sum=0\n",
        "if(n>2):\n",
        "  for i in range(2,n):\n",
        "      flag=False\n",
        "      for j in range(2,i):\n",
        "          if(i%j==0):\n",
        "              flag=True\n",
        "      if(flag==False):\n",
        "          sum=sum+i\n",
        "elif(n==2):\n",
        "  print(2)  \n",
        "else:          \n",
        "print(sum)\n",
        "    "
      ],
      "execution_count": null,
      "outputs": [
        {
          "name": "stdout",
          "output_type": "stream",
          "text": [
            "0\n"
          ]
        }
      ]
    },
    {
      "cell_type": "code",
      "metadata": {
        "id": "lmcNDgbtDiGb",
        "colab": {
          "base_uri": "https://localhost:8080/"
        },
        "outputId": "9c52527d-1f7c-46c4-bd8c-7849d08f844d"
      },
      "source": [
        "n=input().split(',')\n",
        "l=[]\n",
        "k=0\n",
        "for i in n:\n",
        "    l=[i]+l\n",
        "print(l)   \n",
        "for i in l:\n",
        "  print(i,end='') \n",
        "  k=k+1\n",
        "  if(k<len(l)):\n",
        "    print(',',end='')"
      ],
      "execution_count": null,
      "outputs": [
        {
          "output_type": "stream",
          "name": "stdout",
          "text": [
            "one,two,three\n",
            "['three', 'two', 'one']\n",
            "three,two,one"
          ]
        }
      ]
    },
    {
      "cell_type": "code",
      "metadata": {
        "colab": {
          "base_uri": "https://localhost:8080/"
        },
        "id": "zkTZNy7Wnc9Y",
        "outputId": "0be896ef-3534-4b70-e136-75c6efdb4313"
      },
      "source": [
        "n=int(input())\n",
        "matrix=[]\n",
        "l=[]\n",
        "for i in range(n):\n",
        "  \n",
        "  for j in range(n):\n",
        "    a=int(input())\n",
        "    l.append(a)\n",
        "\n",
        "\n",
        "print(matrix)\n",
        "\n"
      ],
      "execution_count": null,
      "outputs": [
        {
          "output_type": "stream",
          "name": "stdout",
          "text": [
            "2\n",
            "2\n",
            "3\n",
            "4\n",
            "5\n",
            "[2, 3, 4, 5]\n"
          ]
        }
      ]
    },
    {
      "cell_type": "code",
      "metadata": {
        "id": "t6Ev5js_nhSQ",
        "colab": {
          "base_uri": "https://localhost:8080/"
        },
        "outputId": "94383863-fe9c-497b-9402-9b993a94a6b2"
      },
      "source": [
        "n=int(input())\n",
        "m=[]\n",
        "for i in range(n):\n",
        "  l=[]\n",
        "  for j in range(n):\n",
        "    if (i==j):\n",
        "      l.append(1)\n",
        "    else:\n",
        "      l.append(0) \n",
        "  m.append(l)    \n",
        "\n",
        "for i in m:\n",
        "  c=0\n",
        "  for j in i:\n",
        "    k=int(j)\n",
        "    c=c+1\n",
        "    print(k,end='')\n",
        "    if(c<n):\n",
        "      print('',end=',')\n",
        "    else:\n",
        "      print('')  \n",
        "     "
      ],
      "execution_count": null,
      "outputs": [
        {
          "output_type": "stream",
          "name": "stdout",
          "text": [
            "3\n",
            "1,0,0\n",
            "0,1,0\n",
            "0,0,1\n"
          ]
        }
      ]
    },
    {
      "cell_type": "code",
      "metadata": {
        "colab": {
          "base_uri": "https://localhost:8080/"
        },
        "id": "WEJmQlh6jd1u",
        "outputId": "515a34b3-9ade-4075-95fe-57cc6f0cdcd6"
      },
      "source": [
        "n=int(input())\n",
        "m=[]\n",
        "for i in range(n):\n",
        "  a=input().split(' ')\n",
        "  l=[]\n",
        "  for j in a:\n",
        "    k=int(j)\n",
        "    l.append(k)\n",
        "  m.append(l)  \n",
        "\n",
        "x=int(input())\n",
        "for i in m:\n",
        "  l=[]\n",
        "  for j in i:\n",
        "    j=int(j)\n",
        "    d=2*j\n",
        "    l.append(d)\n",
        "  m.append(l)\n",
        "\n",
        "print(m)   \n"
      ],
      "execution_count": null,
      "outputs": [
        {
          "name": "stdout",
          "output_type": "stream",
          "text": [
            "2\n",
            "1 2\n",
            "3 4\n",
            "2\n"
          ]
        }
      ]
    },
    {
      "cell_type": "code",
      "metadata": {
        "id": "E1tVRoCAm3_K",
        "colab": {
          "base_uri": "https://localhost:8080/"
        },
        "outputId": "d178ecd4-eb56-46de-9166-3362bf7e108d"
      },
      "source": [
        "def factorial(n):\n",
        "    if(n<0):\n",
        "        return(-1)\n",
        "    else:\n",
        "        if(n==0):\n",
        "            return(1)\n",
        "        else:\n",
        "            fact=factorial(n-1)*n\n",
        "        return(fact)\n",
        "\n",
        "print(factorial(3))"
      ],
      "execution_count": 5,
      "outputs": [
        {
          "output_type": "stream",
          "name": "stdout",
          "text": [
            "6\n"
          ]
        }
      ]
    },
    {
      "cell_type": "code",
      "metadata": {
        "colab": {
          "base_uri": "https://localhost:8080/"
        },
        "id": "0wPcMLg4ifHo",
        "outputId": "f3b835d3-4b81-4eeb-e049-f0e7d494ce41"
      },
      "source": [
        "def factorial(n):\n",
        "  fact=1\n",
        "  if(n<0):\n",
        "        return(-1)\n",
        "  elif(n==0):\n",
        "      return(1)\n",
        "  else:\n",
        "      for i in range(1,n+1):\n",
        "        fact=fact*i\n",
        "\n",
        "      return(fact)  \n",
        "\n",
        "\n",
        "print(factorial(5))\n",
        "\n"
      ],
      "execution_count": 12,
      "outputs": [
        {
          "output_type": "stream",
          "name": "stdout",
          "text": [
            "120\n"
          ]
        }
      ]
    },
    {
      "cell_type": "code",
      "metadata": {
        "id": "ZDb6cvbDjs1B"
      },
      "source": [
        ""
      ],
      "execution_count": null,
      "outputs": []
    }
  ]
}